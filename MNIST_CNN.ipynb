{
  "nbformat": 4,
  "nbformat_minor": 0,
  "metadata": {
    "colab": {
      "name": "MNIST-CNN.ipynb",
      "provenance": [],
      "authorship_tag": "ABX9TyOWTg3rbT1IyDnOhWSmdQ9H"
    },
    "kernelspec": {
      "name": "python3",
      "display_name": "Python 3"
    }
  },
  "cells": [
    {
      "cell_type": "markdown",
      "metadata": {
        "id": "CCnQjwiYCJm4",
        "colab_type": "text"
      },
      "source": [
        "# Installing the Python-MNIST package to load MNIST data\n",
        "\n",
        "[Link to Github Repository](https://github.com/sorki/python-mnist)"
      ]
    },
    {
      "cell_type": "code",
      "metadata": {
        "id": "W4V-ldkqpyIP",
        "colab_type": "code",
        "colab": {
          "base_uri": "https://localhost:8080/",
          "height": 34
        },
        "outputId": "09300428-0490-4149-ec8d-b8d106518b8a"
      },
      "source": [
        "!pip3 install python-mnist"
      ],
      "execution_count": 1,
      "outputs": [
        {
          "output_type": "stream",
          "text": [
            "Requirement already satisfied: python-mnist in /usr/local/lib/python3.6/dist-packages (0.7)\n"
          ],
          "name": "stdout"
        }
      ]
    },
    {
      "cell_type": "markdown",
      "metadata": {
        "id": "EBuGm5iGCt1U",
        "colab_type": "text"
      },
      "source": [
        "# Importing Packages"
      ]
    },
    {
      "cell_type": "code",
      "metadata": {
        "id": "KLiwSC0NqQ9M",
        "colab_type": "code",
        "colab": {}
      },
      "source": [
        "import numpy as np\n",
        "import matplotlib.pyplot as plt\n",
        "import tensorflow as tf\n",
        "from mnist import MNIST"
      ],
      "execution_count": 2,
      "outputs": []
    },
    {
      "cell_type": "markdown",
      "metadata": {
        "id": "zvMT2NZRCzU6",
        "colab_type": "text"
      },
      "source": [
        "# Importing Training/Testing Data"
      ]
    },
    {
      "cell_type": "code",
      "metadata": {
        "id": "YyNaGSkaqWYO",
        "colab_type": "code",
        "colab": {}
      },
      "source": [
        "data = MNIST(\"\")\n",
        "train_images, train_labels = data.load_training()\n",
        "test_images, test_labels = data.load_testing()"
      ],
      "execution_count": 3,
      "outputs": []
    },
    {
      "cell_type": "markdown",
      "metadata": {
        "id": "oSo1A6teC8oT",
        "colab_type": "text"
      },
      "source": [
        "# Converting Training/Testing Images/Labels into Tensors from Python Lists"
      ]
    },
    {
      "cell_type": "code",
      "metadata": {
        "id": "I85ffZKHtNik",
        "colab_type": "code",
        "colab": {}
      },
      "source": [
        "train_images = tf.convert_to_tensor(train_images)\n",
        "train_labels = tf.convert_to_tensor(train_labels)\n",
        "test_images = tf.convert_to_tensor(test_images)\n",
        "test_labels = tf.convert_to_tensor(test_labels)"
      ],
      "execution_count": 4,
      "outputs": []
    },
    {
      "cell_type": "code",
      "metadata": {
        "id": "Px_DPxtvsLc9",
        "colab_type": "code",
        "colab": {
          "base_uri": "https://localhost:8080/",
          "height": 119
        },
        "outputId": "02f89e41-1e4b-4128-8dae-55ee9e1f4493"
      },
      "source": [
        "print(\"Type of training images: {}\".format(type(train_images)))\n",
        "print(\"Type of training labels: {}\".format(type(train_labels)))\n",
        "print(\"Shape of training images: {}\".format(train_images.shape))\n",
        "print(\"Shape of training labels: {}\".format(train_labels.shape))\n",
        "print(\"Shape of testing images: {}\".format(test_images.shape))\n",
        "print(\"Shape of testing labels: {}\".format(test_labels.shape))"
      ],
      "execution_count": 5,
      "outputs": [
        {
          "output_type": "stream",
          "text": [
            "Type of training images: <class 'tensorflow.python.framework.ops.EagerTensor'>\n",
            "Type of training labels: <class 'tensorflow.python.framework.ops.EagerTensor'>\n",
            "Shape of training images: (60000, 784)\n",
            "Shape of training labels: (60000,)\n",
            "Shape of testing images: (10000, 784)\n",
            "Shape of testing labels: (10000,)\n"
          ],
          "name": "stdout"
        }
      ]
    },
    {
      "cell_type": "markdown",
      "metadata": {
        "id": "t81sTRpEDLfq",
        "colab_type": "text"
      },
      "source": [
        "# Reshaping the Training/Testing Tensors\n",
        "- The tensors earlier were 2-dimensional but a convolutional neural network needs the tensors to be in a volume. In this case, it shoud be 4-dimensional."
      ]
    },
    {
      "cell_type": "code",
      "metadata": {
        "id": "hxiOQ7ccsYRe",
        "colab_type": "code",
        "colab": {
          "base_uri": "https://localhost:8080/",
          "height": 51
        },
        "outputId": "f590a2bd-9f67-4b18-f8ff-440467931921"
      },
      "source": [
        "train_images = tf.reshape(train_images, shape=(60000,28,28,1))\n",
        "print(\"The Shape of the Training Images is {}\".format(train_images.shape))\n",
        "test_images = tf.reshape(test_images, shape=(10000,28,28,1))\n",
        "print(\"The Shape of the Testing Images is {}\".format(test_images.shape))"
      ],
      "execution_count": 6,
      "outputs": [
        {
          "output_type": "stream",
          "text": [
            "The Shape of the Training Images is (60000, 28, 28, 1)\n",
            "The Shape of the Testing Images is (10000, 28, 28, 1)\n"
          ],
          "name": "stdout"
        }
      ]
    },
    {
      "cell_type": "code",
      "metadata": {
        "id": "ln22CRgQuPiS",
        "colab_type": "code",
        "colab": {
          "base_uri": "https://localhost:8080/",
          "height": 282
        },
        "outputId": "a5d53854-6dff-486d-a844-ef008f143565"
      },
      "source": [
        "plt.figure()\n",
        "plt.imshow(train_images[0,:,:,0], cmap = \"gray\")\n",
        "plt.grid(False)\n",
        "plt.show()\n",
        "print(train_labels[0])"
      ],
      "execution_count": 7,
      "outputs": [
        {
          "output_type": "display_data",
          "data": {
            "image/png": "[encoded data removed]",
            "text/plain": [
              "<Figure size 432x288 with 1 Axes>"
            ]
          },
          "metadata": {
            "tags": [],
            "needs_background": "light"
          }
        },
        {
          "output_type": "stream",
          "text": [
            "tf.Tensor(5, shape=(), dtype=int32)\n"
          ],
          "name": "stdout"
        }
      ]
    },
    {
      "cell_type": "markdown",
      "metadata": {
        "id": "KhpNQkzSDsT9",
        "colab_type": "text"
      },
      "source": [
        "# Normalizing the Training/Testing Images\n",
        "- Each Image has pixel values varying from 0 to 255. Therefore, dividing all the pixel values will normalize them and constrain them to the range [0,1]"
      ]
    },
    {
      "cell_type": "code",
      "metadata": {
        "id": "nUAc3TlRuccd",
        "colab_type": "code",
        "colab": {}
      },
      "source": [
        "train_images = train_images / 255\n",
        "test_images = test_images / 255"
      ],
      "execution_count": 8,
      "outputs": []
    },
    {
      "cell_type": "markdown",
      "metadata": {
        "id": "T9Ef8FwpD9xT",
        "colab_type": "text"
      },
      "source": [
        "# Plotting the first 25 images in the training set"
      ]
    },
    {
      "cell_type": "code",
      "metadata": {
        "id": "B2rx1bRLu5aO",
        "colab_type": "code",
        "colab": {
          "base_uri": "https://localhost:8080/",
          "height": 589
        },
        "outputId": "239e37c2-e9ff-4b89-e701-d6bcf2426e88"
      },
      "source": [
        "class_names = ['0', '1', '2', '3', '4', '5', '6', '7', '8', '9']\n",
        "plt.figure(figsize=(10,10))\n",
        "for i in range(25):\n",
        "    plt.subplot(5,5,i+1)\n",
        "    plt.xticks([])\n",
        "    plt.yticks([])\n",
        "    plt.grid(False)\n",
        "    plt.imshow(train_images[i,:,:,0], cmap='gray')\n",
        "    plt.xlabel(class_names[train_labels[i]])\n",
        "plt.show()"
      ],
      "execution_count": 9,
      "outputs": [
        {
          "output_type": "display_data",
          "data": {
            "image/png": "[encoded data removed]",
            "text/plain": [
              "<Figure size 720x720 with 25 Axes>"
            ]
          },
          "metadata": {
            "tags": []
          }
        }
      ]
    },
    {
      "cell_type": "markdown",
      "metadata": {
        "id": "wkpRmbUaEThd",
        "colab_type": "text"
      },
      "source": [
        "# Converting the Training/Testing Labels into One-Hot encoded tensors"
      ]
    },
    {
      "cell_type": "code",
      "metadata": {
        "id": "9b8KdFw32B_V",
        "colab_type": "code",
        "colab": {
          "base_uri": "https://localhost:8080/",
          "height": 51
        },
        "outputId": "23941ee7-1e76-4888-fa5a-9564b2a6a816"
      },
      "source": [
        "train_labels_one_hot = tf.keras.utils.to_categorical(train_labels, num_classes=10)\n",
        "print(\"The Shape of the One-Hot encoded labels are {}\".format(train_labels_one_hot.shape))\n",
        "test_labels_one_hot = tf.keras.utils.to_categorical(test_labels, num_classes=10)\n",
        "print(\"The Shape of the One-Hot encoded labels are {}\".format(test_labels_one_hot.shape))"
      ],
      "execution_count": 10,
      "outputs": [
        {
          "output_type": "stream",
          "text": [
            "The Shape of the One-Hot encoded labels are (60000, 10)\n",
            "The Shape of the One-Hot encoded labels are (10000, 10)\n"
          ],
          "name": "stdout"
        }
      ]
    },
    {
      "cell_type": "markdown",
      "metadata": {
        "id": "ZXTXsEk9EbIt",
        "colab_type": "text"
      },
      "source": [
        "# Defining a Keras Sequential Model using TensorFlow"
      ]
    },
    {
      "cell_type": "code",
      "metadata": {
        "id": "bETPqAWsvJnU",
        "colab_type": "code",
        "colab": {}
      },
      "source": [
        "model = tf.keras.Sequential([\n",
        "                    tf.keras.layers.Conv2D(input_shape = (28,28,1), filters = 32, kernel_size = (3,3), strides=1, padding='valid'),\n",
        "                    tf.keras.layers.MaxPool2D(pool_size=(2,2)),\n",
        "                    tf.keras.layers.Flatten(),\n",
        "                    tf.keras.layers.Dense(128, activation = 'relu'),\n",
        "                    tf.keras.layers.Dense(10, activation='softmax')\n",
        "])"
      ],
      "execution_count": 11,
      "outputs": []
    },
    {
      "cell_type": "code",
      "metadata": {
        "id": "tMN1AJUYxypW",
        "colab_type": "code",
        "colab": {}
      },
      "source": [
        "model.compile(optimizer='adam', loss='CategoricalCrossentropy', metrics=['accuracy'])"
      ],
      "execution_count": 12,
      "outputs": []
    },
    {
      "cell_type": "code",
      "metadata": {
        "id": "UZvT-WCz1Pnl",
        "colab_type": "code",
        "colab": {
          "base_uri": "https://localhost:8080/",
          "height": 187
        },
        "outputId": "096bff2d-b29f-41b8-e089-b9d373f608e2"
      },
      "source": [
        "history = model.fit(train_images, train_labels_one_hot, epochs = 5)"
      ],
      "execution_count": 13,
      "outputs": [
        {
          "output_type": "stream",
          "text": [
            "Epoch 1/5\n",
            "1875/1875 [==============================] - 33s 18ms/step - loss: 0.1742 - accuracy: 0.9483\n",
            "Epoch 2/5\n",
            "1875/1875 [==============================] - 33s 18ms/step - loss: 0.0606 - accuracy: 0.9814\n",
            "Epoch 3/5\n",
            "1875/1875 [==============================] - 33s 18ms/step - loss: 0.0369 - accuracy: 0.9886\n",
            "Epoch 4/5\n",
            "1875/1875 [==============================] - 33s 18ms/step - loss: 0.0249 - accuracy: 0.9918\n",
            "Epoch 5/5\n",
            "1875/1875 [==============================] - 33s 18ms/step - loss: 0.0181 - accuracy: 0.9940\n"
          ],
          "name": "stdout"
        }
      ]
    },
    {
      "cell_type": "code",
      "metadata": {
        "id": "FbMYMnbv1vkD",
        "colab_type": "code",
        "colab": {
          "base_uri": "https://localhost:8080/",
          "height": 34
        },
        "outputId": "3a136f54-a93b-456a-ce13-a136cebd154f"
      },
      "source": [
        "loss, accuracy = model.evaluate(test_images, test_labels_one_hot)"
      ],
      "execution_count": 14,
      "outputs": [
        {
          "output_type": "stream",
          "text": [
            "313/313 [==============================] - 2s 7ms/step - loss: 0.0610 - accuracy: 0.9828\n"
          ],
          "name": "stdout"
        }
      ]
    },
    {
      "cell_type": "code",
      "metadata": {
        "id": "Nl0zf8RRY7rQ",
        "colab_type": "code",
        "colab": {
          "base_uri": "https://localhost:8080/",
          "height": 34
        },
        "outputId": "4ed2fb9a-440d-415a-92bb-8ce7fe7329b6"
      },
      "source": [
        "print(\"Testing Loss = {} %\".format(loss * 100))"
      ],
      "execution_count": 15,
      "outputs": [
        {
          "output_type": "stream",
          "text": [
            "Testing Loss = 6.100672483444214 %\n"
          ],
          "name": "stdout"
        }
      ]
    },
    {
      "cell_type": "code",
      "metadata": {
        "id": "YLOFIzDQZBX1",
        "colab_type": "code",
        "colab": {
          "base_uri": "https://localhost:8080/",
          "height": 34
        },
        "outputId": "ab4c3bf0-c142-4062-a877-e643366d8a50"
      },
      "source": [
        "print(\"Testing Accuracy = {} %\".format(accuracy * 100))"
      ],
      "execution_count": 16,
      "outputs": [
        {
          "output_type": "stream",
          "text": [
            "Testing Accuracy = 98.28000068664551 %\n"
          ],
          "name": "stdout"
        }
      ]
    },
    {
      "cell_type": "markdown",
      "metadata": {
        "id": "o54BlkwiElmJ",
        "colab_type": "text"
      },
      "source": [
        "# Training Accuracy"
      ]
    },
    {
      "cell_type": "code",
      "metadata": {
        "id": "qPY2yqdQZCin",
        "colab_type": "code",
        "colab": {
          "base_uri": "https://localhost:8080/",
          "height": 295
        },
        "outputId": "4355d74b-734a-41d7-f673-902e02dc414d"
      },
      "source": [
        "plt.plot(history.history['accuracy'])\n",
        "plt.title('Model Accuracy')\n",
        "plt.ylabel('Accuracy')\n",
        "plt.xlabel('Epoch')\n",
        "plt.legend(['Train'], loc='upper left')\n",
        "plt.show()"
      ],
      "execution_count": 17,
      "outputs": [
        {
          "output_type": "display_data",
          "data": {
            "image/png": "[encoded data removed]",
            "text/plain": [
              "<Figure size 432x288 with 1 Axes>"
            ]
          },
          "metadata": {
            "tags": [],
            "needs_background": "light"
          }
        }
      ]
    },
    {
      "cell_type": "markdown",
      "metadata": {
        "id": "o0gQjyhTEofB",
        "colab_type": "text"
      },
      "source": [
        "# Training Loss"
      ]
    },
    {
      "cell_type": "code",
      "metadata": {
        "id": "4XLMyLfjaZE1",
        "colab_type": "code",
        "colab": {
          "base_uri": "https://localhost:8080/",
          "height": 295
        },
        "outputId": "9c302835-3d3b-4e26-df8c-40d5e1cc8013"
      },
      "source": [
        "plt.plot(history.history['loss'])\n",
        "plt.title('Model Loss')\n",
        "plt.ylabel('Loss')\n",
        "plt.xlabel('Epoch')\n",
        "plt.legend(['Train'], loc='upper left')\n",
        "plt.show()"
      ],
      "execution_count": 18,
      "outputs": [
        {
          "output_type": "display_data",
          "data": {
            "image/png": "[encoded data removed]",
            "text/plain": [
              "<Figure size 432x288 with 1 Axes>"
            ]
          },
          "metadata": {
            "tags": [],
            "needs_background": "light"
          }
        }
      ]
    },
    {
      "cell_type": "markdown",
      "metadata": {
        "id": "fKESQnMrEs4T",
        "colab_type": "text"
      },
      "source": [
        "# Summary of the Sequential Model Used"
      ]
    },
    {
      "cell_type": "code",
      "metadata": {
        "id": "2rJYNXY5a7lp",
        "colab_type": "code",
        "colab": {
          "base_uri": "https://localhost:8080/",
          "height": 323
        },
        "outputId": "51749705-d5a7-4335-c52d-35af6a689c3e"
      },
      "source": [
        "model.summary()"
      ],
      "execution_count": 19,
      "outputs": [
        {
          "output_type": "stream",
          "text": [
            "Model: \"sequential\"\n",
            "_________________________________________________________________\n",
            "Layer (type)                 Output Shape              Param #   \n",
            "=================================================================\n",
            "conv2d (Conv2D)              (None, 26, 26, 32)        320       \n",
            "_________________________________________________________________\n",
            "max_pooling2d (MaxPooling2D) (None, 13, 13, 32)        0         \n",
            "_________________________________________________________________\n",
            "flatten (Flatten)            (None, 5408)              0         \n",
            "_________________________________________________________________\n",
            "dense (Dense)                (None, 128)               692352    \n",
            "_________________________________________________________________\n",
            "dense_1 (Dense)              (None, 10)                1290      \n",
            "=================================================================\n",
            "Total params: 693,962\n",
            "Trainable params: 693,962\n",
            "Non-trainable params: 0\n",
            "_________________________________________________________________\n"
          ],
          "name": "stdout"
        }
      ]
    },
    {
      "cell_type": "markdown",
      "metadata": {
        "id": "nUdL8urEHJnz",
        "colab_type": "text"
      },
      "source": [
        "# Plots of the Filters used in the Convolution Layer"
      ]
    },
    {
      "cell_type": "code",
      "metadata": {
        "id": "YJtNldFPeDT1",
        "colab_type": "code",
        "colab": {
          "base_uri": "https://localhost:8080/",
          "height": 578
        },
        "outputId": "e2366f09-07c2-48b9-8e4f-d8ef2a53cf13"
      },
      "source": [
        "filters, biases = model.layers[0].get_weights()\n",
        "plt.figure(figsize=(10,10))\n",
        "for i in range(25):\n",
        "    plt.subplot(5,5,i+1)\n",
        "    plt.xticks([])\n",
        "    plt.yticks([])\n",
        "    plt.grid(False)\n",
        "    plt.imshow(filters[:,:,0,i], cmap='gray')\n",
        "plt.show()"
      ],
      "execution_count": 20,
      "outputs": [
        {
          "output_type": "display_data",
          "data": {
            "image/png": "[encoded data removed]",
            "text/plain": [
              "<Figure size 720x720 with 25 Axes>"
            ]
          },
          "metadata": {
            "tags": []
          }
        }
      ]
    }
  ]
}