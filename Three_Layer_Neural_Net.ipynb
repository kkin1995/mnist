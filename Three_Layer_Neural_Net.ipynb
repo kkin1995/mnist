{
  "nbformat": 4,
  "nbformat_minor": 0,
  "metadata": {
    "colab": {
      "name": "Three_Layer_Neural_Net.ipynb",
      "provenance": [],
      "collapsed_sections": [],
      "authorship_tag": "ABX9TyMBuT9dYOR/WIN3lMd1Xudd"
    },
    "kernelspec": {
      "name": "python3",
      "display_name": "Python 3"
    }
  },
  "cells": [
    {
      "cell_type": "markdown",
      "metadata": {
        "id": "_bobWbNuIIo3",
        "colab_type": "text"
      },
      "source": [
        "# Download traininng and testing data from the below website (4 files)\n",
        "\n",
        "[MNIST - Yann Lecun](http://yann.lecun.com/exdb/mnist/)"
      ]
    },
    {
      "cell_type": "code",
      "metadata": {
        "id": "8h5olxJce6Dm",
        "colab_type": "code",
        "outputId": "1c4e4d70-4cbc-4c2e-a722-434bc845ec22",
        "colab": {
          "base_uri": "https://localhost:8080/",
          "height": 34
        }
      },
      "source": [
        "!pip install python-mnist"
      ],
      "execution_count": 0,
      "outputs": [
        {
          "output_type": "stream",
          "text": [
            "Requirement already satisfied: python-mnist in /usr/local/lib/python3.6/dist-packages (0.7)\n"
          ],
          "name": "stdout"
        }
      ]
    },
    {
      "cell_type": "markdown",
      "metadata": {
        "id": "2_uxLaexH-gL",
        "colab_type": "text"
      },
      "source": [
        "# Importing Packages"
      ]
    },
    {
      "cell_type": "code",
      "metadata": {
        "id": "eo49KANvfF59",
        "colab_type": "code",
        "colab": {}
      },
      "source": [
        "%matplotlib inline\n",
        "from mnist import MNIST # Package: python-mnist\n",
        "import numpy as np\n",
        "import pandas as pd\n",
        "from sklearn.model_selection import train_test_split\n",
        "import matplotlib.pyplot as plt"
      ],
      "execution_count": 0,
      "outputs": []
    },
    {
      "cell_type": "markdown",
      "metadata": {
        "id": "uDHNJpMp39iT",
        "colab_type": "text"
      },
      "source": [
        "# Defining Helper Functions\n",
        "\n",
        "1. Sigmoid\n",
        "2. ReLU (Rectified Linear Unit)\n",
        "3. Derivative of the Sigmoid\n",
        "4. Derivative of the ReLU"
      ]
    },
    {
      "cell_type": "code",
      "metadata": {
        "id": "LhTOy90HfTtk",
        "colab_type": "code",
        "colab": {}
      },
      "source": [
        "def sigmoid(x):\n",
        "    return 1 / (1 + np.exp(-x))\n",
        "\n",
        "def relu(x):\n",
        "    return np.maximum(0,x)\n",
        "\n",
        "def relu_derivative(x):\n",
        "    x[x<=0] = 0\n",
        "    x[x>0] = 1\n",
        "    return x\n",
        "\n",
        "def sigmoid_derivative(x):\n",
        "    return sigmoid(x)*(1-sigmoid(x))"
      ],
      "execution_count": 0,
      "outputs": []
    },
    {
      "cell_type": "markdown",
      "metadata": {
        "id": "2vVyeI7-H5p_",
        "colab_type": "text"
      },
      "source": [
        "# Importing the MNIST dataset\n",
        "\n",
        "- The package python-mnist is used to import the images and labels\n",
        "- The images and labels are converted to numpy arrays and reshaped into appropiate shapes"
      ]
    },
    {
      "cell_type": "code",
      "metadata": {
        "id": "WSdVhYTpfWwx",
        "colab_type": "code",
        "colab": {}
      },
      "source": [
        "data = MNIST(\"./\")\n",
        "images, labels = data.load_training()\n",
        "images_array = np.array(images).reshape((60000,784))\n",
        "labels_array = np.array(labels).reshape((60000,1))"
      ],
      "execution_count": 0,
      "outputs": []
    },
    {
      "cell_type": "markdown",
      "metadata": {
        "id": "drdgiM9dI8fW",
        "colab_type": "text"
      },
      "source": [
        "# Splitting Dataset into Training and Cross - Validation\n",
        "- The function \"train_test_split\" from the package scikit-learn is used to train the dataset into training and cross - validation sets.\n",
        "- The cross validation set size chosen here is 20% of the total set size."
      ]
    },
    {
      "cell_type": "code",
      "metadata": {
        "id": "yCPnw-_Jfa5h",
        "colab_type": "code",
        "colab": {}
      },
      "source": [
        "X_train, X_test, Y_train, Y_test = train_test_split(images_array, labels_array, test_size=0.2)"
      ],
      "execution_count": 0,
      "outputs": []
    },
    {
      "cell_type": "markdown",
      "metadata": {
        "id": "tsCUy7V_JWGY",
        "colab_type": "text"
      },
      "source": [
        "# Processing of Dataset\n",
        "- The training imagea and labels are reshaped into appropiate shapes.\n",
        "- The norm of every training example is computed using the norm() function from NumPy's Linear Algebra library.\n",
        "- The training data is normalized.\n",
        "- The training labels are one hot encoded using the get_dummies() function from Pandas."
      ]
    },
    {
      "cell_type": "code",
      "metadata": {
        "id": "DpDXcYsghhkS",
        "colab_type": "code",
        "colab": {}
      },
      "source": [
        "X = X_train.T # (784,48000)\n",
        "X_norm = np.linalg.norm(X, axis=0)\n",
        "X = X / X_norm\n",
        "Y_train = Y_train.T # (10, 48000)\n",
        "Y = pd.get_dummies(Y_train.reshape((48000))).values.reshape((10,48000))"
      ],
      "execution_count": 0,
      "outputs": []
    },
    {
      "cell_type": "code",
      "metadata": {
        "id": "znEKkBpnhmjL",
        "colab_type": "code",
        "outputId": "0edbee0f-44e0-44f5-e64e-5f268f974af9",
        "colab": {
          "base_uri": "https://localhost:8080/",
          "height": 34
        }
      },
      "source": [
        "print(\"Shape of training data and labels is {} {}\".format(X.shape, Y.shape))"
      ],
      "execution_count": 0,
      "outputs": [
        {
          "output_type": "stream",
          "text": [
            "Shape of training data and labels is (784, 48000) (10, 48000)\n"
          ],
          "name": "stdout"
        }
      ]
    },
    {
      "cell_type": "markdown",
      "metadata": {
        "id": "JznW-79OKFeg",
        "colab_type": "text"
      },
      "source": [
        "# Specifying the Layers of the Neural Network\n",
        "- The input layer has 784 neurons.\n",
        "- The first hidden layer has 10 hidden neurons.\n",
        "- The second hidden layer has 10 neurons.\n",
        "- The output layer has 10 neurons."
      ]
    },
    {
      "cell_type": "code",
      "metadata": {
        "id": "rkCULSpDhpK-",
        "colab_type": "code",
        "colab": {}
      },
      "source": [
        "m = X.shape[1]\n",
        "n_h1 = 10 # Number of neurons in first hidden layer\n",
        "n_h2 = 10 # Number of neurons in second hidden layer"
      ],
      "execution_count": 0,
      "outputs": []
    },
    {
      "cell_type": "markdown",
      "metadata": {
        "id": "lpbJzoPsKrFC",
        "colab_type": "text"
      },
      "source": [
        "# Initializing the Parameters of the model\n",
        "- The weights are randomly initialized.\n",
        "- The biases are set to zeros."
      ]
    },
    {
      "cell_type": "code",
      "metadata": {
        "id": "ceZ7gJUJKp8p",
        "colab_type": "code",
        "outputId": "a2c5ebfe-f3a7-4951-8241-2e72edccb32b",
        "colab": {
          "base_uri": "https://localhost:8080/",
          "height": 119
        }
      },
      "source": [
        "W1 = np.random.randn(n_h1, X.shape[0])\n",
        "b1 = np.zeros((n_h1, 1))\n",
        "W2 = np.random.randn(n_h2, n_h1)\n",
        "b2 = np.zeros((n_h2, 1))\n",
        "W3 = np.random.randn(Y.shape[0],n_h2)\n",
        "b3 = np.zeros((Y.shape[0], 1))\n",
        "\n",
        "print(\"Shape of W1: {}\".format(W1.shape))\n",
        "print(\"Shape of b2: {}\".format(b2.shape))\n",
        "print(\"Shape of W2: {}\".format(W2.shape))\n",
        "print(\"Shape of b2: {}\".format(b2.shape))\n",
        "print(\"Shape of W3: {}\".format(W3.shape))\n",
        "print(\"Shape of b3: {}\".format(b3.shape))"
      ],
      "execution_count": 0,
      "outputs": [
        {
          "output_type": "stream",
          "text": [
            "Shape of W1: (10, 784)\n",
            "Shape of b2: (10, 1)\n",
            "Shape of W2: (10, 10)\n",
            "Shape of b2: (10, 1)\n",
            "Shape of W3: (10, 10)\n",
            "Shape of b3: (10, 1)\n"
          ],
          "name": "stdout"
        }
      ]
    },
    {
      "cell_type": "markdown",
      "metadata": {
        "id": "Btow1itrKZBm",
        "colab_type": "text"
      },
      "source": [
        "# Specifying the hyperparameters of the model\n",
        "\n",
        "- An epoch is a single pass through the training set.\n",
        "- The learning rate is set to 0.1 since this is the most optimal for the current model.\n",
        "  - Different Learning Rates can be iterated through and graph of the cost function against the number of epochs can be compared to choose the most optimal value.\n",
        "\n",
        "\n"
      ]
    },
    {
      "cell_type": "code",
      "metadata": {
        "id": "Cw1DSLPbhsJ_",
        "colab_type": "code",
        "colab": {}
      },
      "source": [
        "epochs = 1000\n",
        "learning_rate = 0.1\n",
        "epochs_list = np.zeros(1000)\n",
        "cost_list = np.zeros(1000)"
      ],
      "execution_count": 0,
      "outputs": []
    },
    {
      "cell_type": "markdown",
      "metadata": {
        "id": "ZYnKor9qLlfS",
        "colab_type": "text"
      },
      "source": [
        "# Forward Propogation and Backpropogation\n",
        "- Batch Gradient Descent is used here for forward propogation.\n",
        "- The backpropogation algorithm is used to compute the gradients.\n",
        "- The weights and biases are updated using the update rules."
      ]
    },
    {
      "cell_type": "code",
      "metadata": {
        "id": "yEFbJhaXhu_o",
        "colab_type": "code",
        "outputId": "1b69ba1d-6118-4d26-ebbe-ac93e8cf69b7",
        "colab": {
          "base_uri": "https://localhost:8080/",
          "height": 187
        }
      },
      "source": [
        "for i in range(epochs):\n",
        "    epochs_list[i] = i\n",
        "    # Forward Pass\n",
        "\n",
        "    Z1 = np.dot(W1, X) + b1\n",
        "    A1 = relu(Z1)\n",
        "    Z2 = np.dot(W2, A1) + b2\n",
        "    A2 = relu(Z2)\n",
        "    Z3 = np.dot(W3, A2) + b3\n",
        "    A3 = sigmoid(Z3)\n",
        "\n",
        "    cost = (-1/m) * np.sum(Y*np.log(A3) + (1-Y) * np.log(1-A3))\n",
        "    cost = np.squeeze(cost)\n",
        "    cost_list[i] = cost\n",
        "\n",
        "    # Backward Pass\n",
        "    dA3 = - (np.divide(Y, A3) - np.divide(1 - Y, 1 - A3))\n",
        "    dZ3 = np.multiply(dA3, sigmoid_derivative(Z3))\n",
        "    dW3 = (1/m) * np.dot(dZ3, A2.T)\n",
        "    db3 = (1/m) * np.sum(dZ3, axis = 1, keepdims = True)\n",
        "    dA2 = np.dot(W3.T, dZ3)\n",
        "    dZ2 = np.multiply(dA2, relu_derivative(Z2))\n",
        "    dW2 = (1/m) * np.dot(dZ2, A1.T)\n",
        "    db2 = (1/m) * np.sum(dZ2, axis = 1, keepdims = True)\n",
        "    dA1 = np.dot(W2.T, dZ2)\n",
        "    dZ1 = np.multiply(dA1, relu_derivative(Z1))\n",
        "    dW1 = (1/m) * np.dot(dZ1, X.T)\n",
        "    db1 = (1/m) * np.sum(dZ1, axis = 1, keepdims = True)\n",
        "\n",
        "    # Updating the parameters\n",
        "\n",
        "    W1 = W1 - (learning_rate * dW1)\n",
        "    b1 = b1 - (learning_rate * db1)\n",
        "    W2 = W2 - (learning_rate * dW2)\n",
        "    b2 = b2 - (learning_rate * db2)\n",
        "    W3 = W3 - (learning_rate * dW3)\n",
        "    b3 = b3 - (learning_rate * db3)\n",
        "\n",
        "    if i % 100 == 0:\n",
        "        print(\"Cost after {} iterations {}\".format(i, cost))\n"
      ],
      "execution_count": 0,
      "outputs": [
        {
          "output_type": "stream",
          "text": [
            "Cost after 0 iterations 18.62244267590173\n",
            "Cost after 100 iterations 3.382316509978665\n",
            "Cost after 200 iterations 3.306961916444878\n",
            "Cost after 300 iterations 3.2848731564154434\n",
            "Cost after 400 iterations 3.2740561786842504\n",
            "Cost after 500 iterations 3.268008054671692\n",
            "Cost after 600 iterations 3.2640811400782415\n",
            "Cost after 700 iterations 3.261306369009184\n",
            "Cost after 800 iterations 3.259220597660957\n",
            "Cost after 900 iterations 3.257613836842486\n"
          ],
          "name": "stdout"
        }
      ]
    },
    {
      "cell_type": "markdown",
      "metadata": {
        "id": "Q10-dj4yMLZ9",
        "colab_type": "text"
      },
      "source": [
        "# Calculation of Training Accuracy"
      ]
    },
    {
      "cell_type": "code",
      "metadata": {
        "id": "4fPlOulih2vB",
        "colab_type": "code",
        "outputId": "a114a3b0-57d5-4e3e-a916-fb10256be171",
        "colab": {
          "base_uri": "https://localhost:8080/",
          "height": 34
        }
      },
      "source": [
        "training_accuracy = 100 - (np.mean(np.abs(Y - A3)) * 100)\n",
        "train_accuracy_string = str(training_accuracy)\n",
        "print(\"Training Accuracy: {} %\".format(training_accuracy))"
      ],
      "execution_count": 0,
      "outputs": [
        {
          "output_type": "stream",
          "text": [
            "Training Accuracy: 81.92246004337034\n"
          ],
          "name": "stdout"
        }
      ]
    },
    {
      "cell_type": "markdown",
      "metadata": {
        "id": "zN24AYCUMTUq",
        "colab_type": "text"
      },
      "source": [
        "# Plotting of the Cost Function against Number of Epochs"
      ]
    },
    {
      "cell_type": "code",
      "metadata": {
        "id": "Bzh4BztoMHny",
        "colab_type": "code",
        "outputId": "66dd928a-a63c-4f70-db4e-3d9f43c93b35",
        "colab": {
          "base_uri": "https://localhost:8080/",
          "height": 295
        }
      },
      "source": [
        "plt.plot(epochs_list, cost_list)\n",
        "plt.title(\"Cost Function | Learning Rate = \" + str(learning_rate))\n",
        "plt.text(400, 10, \"Accuracy: \" + train_accuracy_string + \" %\")\n",
        "plt.xlabel(\"Epochs\")\n",
        "plt.ylabel(\"Cost\")\n",
        "plt.show()"
      ],
      "execution_count": 0,
      "outputs": [
        {
          "output_type": "display_data",
          "data": {
            "image/png": "[encoded data removed]",
            "text/plain": [
              "<Figure size 432x288 with 1 Axes>"
            ]
          },
          "metadata": {
            "tags": [],
            "needs_background": "light"
          }
        }
      ]
    },
    {
      "cell_type": "markdown",
      "metadata": {
        "id": "xUsGEe3CQSvz",
        "colab_type": "text"
      },
      "source": [
        "# Processing the Cross - Validation Dataset\n",
        "- The cross - validation images and labels are reshaped into appropiate shapes.\n",
        "- The norm of every cross - validation example is computed using the norm() function from NumPy's Linear Algebra library.\n",
        "- The cross - validationn data is normalized.\n",
        "- The cross - validation labels are one hot encoded using the get_dummies() function from Pandas."
      ]
    },
    {
      "cell_type": "code",
      "metadata": {
        "id": "z1qYwgOqN7Ly",
        "colab_type": "code",
        "outputId": "381b5574-4828-4c9a-dc19-b6aa36b87b74",
        "colab": {
          "base_uri": "https://localhost:8080/",
          "height": 51
        }
      },
      "source": [
        "X_cross_final = X_test.T # (784,12000)\n",
        "X_norm_cross = np.linalg.norm(X_cross_final, axis=0)\n",
        "X_cross_final = X_cross_final / X_norm_cross\n",
        "Y_cross_final = Y_test.T # (1, 12000)\n",
        "Y_cross_final = pd.get_dummies(Y_cross_final.reshape((12000))).values.reshape((10,12000))\n",
        "\n",
        "print(\"The Shape of the cross - validation set is: \", X_cross_final.shape)\n",
        "print(\"The Shape of the cross - validation labels is: \", Y_cross_final.shape)"
      ],
      "execution_count": 0,
      "outputs": [
        {
          "output_type": "stream",
          "text": [
            "The Shape of the cross - validation set is:  (784, 12000)\n",
            "The Shape of the cross - validation labels is:  (10, 12000)\n"
          ],
          "name": "stdout"
        }
      ]
    },
    {
      "cell_type": "markdown",
      "metadata": {
        "id": "ISBfkmLZQr6p",
        "colab_type": "text"
      },
      "source": [
        "# Forward Propogation for the Cross - Validation Dataset\n",
        "\n",
        "The cross - validation dataset is passed through the neural network to obtain the network's predictions A3_test."
      ]
    },
    {
      "cell_type": "code",
      "metadata": {
        "id": "Nzkr61T7N_Rq",
        "colab_type": "code",
        "colab": {}
      },
      "source": [
        "Z1_cross = np.dot(W1, X_cross_final) + b1\n",
        "A1_cross = relu(Z1_cross)\n",
        "Z2_cross = np.dot(W2, A1_cross) + b2\n",
        "A2_cross = relu(Z2_cross)\n",
        "Z3_cross = np.dot(W3, A2_cross) + b3\n",
        "A3_cross = sigmoid(Z3_cross)"
      ],
      "execution_count": 0,
      "outputs": []
    },
    {
      "cell_type": "markdown",
      "metadata": {
        "id": "q-8S9oSVQ8fA",
        "colab_type": "text"
      },
      "source": [
        "# Calculation of Cross - Validation Accuracy"
      ]
    },
    {
      "cell_type": "code",
      "metadata": {
        "id": "O9VXWljUPn_U",
        "colab_type": "code",
        "outputId": "83b08724-4d28-4f77-d73b-fdfefad31790",
        "colab": {
          "base_uri": "https://localhost:8080/",
          "height": 34
        }
      },
      "source": [
        "print(\"The cross - validation accuracy is: {} %\".format(100 - (np.mean(np.abs(Y_cross_final - A3_cross)) * 100)))"
      ],
      "execution_count": 0,
      "outputs": [
        {
          "output_type": "stream",
          "text": [
            "The cross - validation accuracy is: 81.91186441290175 %\n"
          ],
          "name": "stdout"
        }
      ]
    },
    {
      "cell_type": "markdown",
      "metadata": {
        "id": "RbVOkZkLT3Od",
        "colab_type": "text"
      },
      "source": [
        "# Importing the Testing Dataset\n",
        "- The testing dataset is imported using the method load_testing() from the python-mnist package.\n",
        "- The images and labels are converted into NumPy arrays.\n",
        "- The labels array is reshaped into a 2-D Array from a 1-D Array."
      ]
    },
    {
      "cell_type": "code",
      "metadata": {
        "id": "jgnTOTNNQAtY",
        "colab_type": "code",
        "outputId": "c128c386-1014-44c0-ee74-0d89967a9fa1",
        "colab": {
          "base_uri": "https://localhost:8080/",
          "height": 34
        }
      },
      "source": [
        "images, labels = data.load_testing()\n",
        "images_testing = np.array(images)\n",
        "labels_testing = np.array(labels).reshape((10000,1))"
      ],
      "execution_count": 0,
      "outputs": [
        {
          "output_type": "execute_result",
          "data": {
            "text/plain": [
              "(10000, 1)"
            ]
          },
          "metadata": {
            "tags": []
          },
          "execution_count": 71
        }
      ]
    },
    {
      "cell_type": "markdown",
      "metadata": {
        "id": "L8JFY8J0UQTh",
        "colab_type": "text"
      },
      "source": [
        "# Processing the Testing Dataset\n",
        "- The testing images and labels are reshaped into appropiate shapes.\n",
        "- The norm of every testing example is computed using the norm() function from NumPy's Linear Algebra library.\n",
        "- The testing data is normalized.\n",
        "- The testing labels are one hot encoded using the get_dummies() function from Pandas."
      ]
    },
    {
      "cell_type": "code",
      "metadata": {
        "id": "t0tCMJzaRg7I",
        "colab_type": "code",
        "outputId": "926ef584-5422-4e0f-e3fc-31b5efe317ea",
        "colab": {
          "base_uri": "https://localhost:8080/",
          "height": 51
        }
      },
      "source": [
        "X_test = images_testing.T # (784,10000)\n",
        "X_norm_test = np.linalg.norm(X_test, axis=0)\n",
        "X_test = X_test / X_norm_test\n",
        "Y_test = labels_testing.T # (1, 10000)\n",
        "Y_test = pd.get_dummies(Y_test.reshape((10000))).values.reshape((10,10000))\n",
        "\n",
        "print(\"Shape of Testing Dataset: {}\".format(X_test.shape))\n",
        "print(\"Shape of Testing Label;s: {}\".format(Y_test.shape))"
      ],
      "execution_count": 0,
      "outputs": [
        {
          "output_type": "stream",
          "text": [
            "Shape of Testing Dataset: (784, 10000)\n",
            "Shape of Testing Label;s: (10, 10000)\n"
          ],
          "name": "stdout"
        }
      ]
    },
    {
      "cell_type": "code",
      "metadata": {
        "id": "lYb2kNzDTN9i",
        "colab_type": "code",
        "colab": {}
      },
      "source": [
        "Z1_test = np.dot(W1, X_test) + b1\n",
        "A1_test = relu(Z1_test)\n",
        "Z2_test = np.dot(W2, A1_test) + b2\n",
        "A2_test = relu(Z2_test)\n",
        "Z3_test = np.dot(W3, A2_test) + b3\n",
        "A3_test = sigmoid(Z3_test)"
      ],
      "execution_count": 0,
      "outputs": []
    },
    {
      "cell_type": "code",
      "metadata": {
        "id": "SXwD2XySTgiH",
        "colab_type": "code",
        "outputId": "f37e8d2a-3c3b-472b-c906-ad0fa045412d",
        "colab": {
          "base_uri": "https://localhost:8080/",
          "height": 34
        }
      },
      "source": [
        "print(\"The testing accuracy is: {} %\".format(100 - (np.mean(np.abs(Y_test - A3_test)) * 100)))"
      ],
      "execution_count": 0,
      "outputs": [
        {
          "output_type": "stream",
          "text": [
            "The testing accuracy is: 81.93185423853886 %\n"
          ],
          "name": "stdout"
        }
      ]
    }
  ]
}